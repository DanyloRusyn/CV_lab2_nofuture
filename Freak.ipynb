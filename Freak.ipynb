{
 "cells": [
  {
   "cell_type": "code",
   "execution_count": 1,
   "metadata": {},
   "outputs": [],
   "source": [
    "import cv2, os, time\n",
    "import numpy as np\n",
    "\n",
    "from sklearn.model_selection import train_test_split\n",
    "from sklearn.ensemble import RandomForestClassifier"
   ]
  },
  {
   "cell_type": "code",
   "execution_count": 2,
   "metadata": {},
   "outputs": [],
   "source": [
    "class GetData:\n",
    "    @staticmethod\n",
    "    def get_images(folder_path):\n",
    "        data_folder= os.path.join(os.curdir, folder_path)\n",
    "        data_set = [os.path.join(data_folder,file) for file in os.listdir(data_folder) if os.path.isfile(os.path.join(data_folder,file))]\n",
    "        images = [cv2.imread(x , cv2.IMREAD_GRAYSCALE) for x in data_set]\n",
    "        return images\n",
    "\n",
    "    @staticmethod\n",
    "    def get_video_cuts(video_path, output_path):\n",
    "        vidcap = cv2.VideoCapture(video_path)\n",
    "        success,image = vidcap.read()\n",
    "        count = 0\n",
    "        success = True\n",
    "        while success and count < 100:\n",
    "            cv2.imwrite(output_path + \"/frame%d.jpg\" % count, image) \n",
    "            success,image = vidcap.read()\n",
    "            count += 1\n",
    "        return DataHandler.get_images(output_path)    "
   ]
  },
  {
   "cell_type": "code",
   "execution_count": 8,
   "metadata": {},
   "outputs": [
    {
     "name": "stdout",
     "output_type": "stream",
     "text": [
      "Not pass\n",
      "Not pass\n",
      "Not pass\n",
      "Not pass\n",
      "Not pass\n",
      "Not pass\n"
     ]
    },
    {
     "name": "stderr",
     "output_type": "stream",
     "text": [
      "C:\\Users\\Danul\\Anaconda3\\lib\\site-packages\\sklearn\\ensemble\\forest.py:246: FutureWarning: The default value of n_estimators will change from 10 in version 0.20 to 100 in 0.22.\n",
      "  \"10 in version 0.20 to 100 in 0.22.\", FutureWarning)\n"
     ]
    },
    {
     "data": {
      "text/plain": [
       "RandomForestClassifier(bootstrap=True, class_weight=None, criterion='gini',\n",
       "            max_depth=None, max_features='auto', max_leaf_nodes=None,\n",
       "            min_impurity_decrease=0.0, min_impurity_split=None,\n",
       "            min_samples_leaf=1, min_samples_split=2,\n",
       "            min_weight_fraction_leaf=0.0, n_estimators=10, n_jobs=None,\n",
       "            oob_score=False, random_state=None, verbose=0,\n",
       "            warm_start=False)"
      ]
     },
     "execution_count": 8,
     "metadata": {},
     "output_type": "execute_result"
    }
   ],
   "source": [
    "star = cv2.xfeatures2d.StarDetector_create()\n",
    "detector = cv2.xfeatures2d.FREAK_create()\n",
    "model = RandomForestClassifier()\n",
    "\n",
    "images_good = GetData.get_images('train_true')\n",
    "images_other = GetData.get_images('train_false')\n",
    "\n",
    "X = []\n",
    "Y = []\n",
    "\n",
    "for i in images_good:\n",
    "    kps=star.detect(i,None)\n",
    "    kps, desc = detector.compute(i, kps)\n",
    "    try:\n",
    "        if len(desc) > 30:\n",
    "            X.append(desc[:30])\n",
    "            Y.append(1)\n",
    "        else:\n",
    "            print(\"Not pass\")\n",
    "    except Exception:\n",
    "        print(\"Oops...Something goes wrong!\")\n",
    "\n",
    "for i in images_other:\n",
    "    kps=star.detect(i,None)\n",
    "    kps, desc = detector.compute(i, kps)\n",
    "    try:\n",
    "        if len(desc) > 30:\n",
    "            X.append(desc[:30])\n",
    "            Y.append(0)\n",
    "        else:\n",
    "            print(\"Not pass\")\n",
    "    except Exception:\n",
    "        print(\"Oops...Something goes wrong!\")\n",
    "\n",
    "\n",
    "\n",
    "X = np.array(X)\n",
    "X = X.reshape(X.shape[0], -1)\n",
    "Y = np.array(Y)\n",
    "\n",
    "model.fit(X, Y)\n"
   ]
  },
  {
   "cell_type": "code",
   "execution_count": 9,
   "metadata": {},
   "outputs": [
    {
     "data": {
      "text/plain": [
       "array([1, 1, 1, 1, 1, 1, 1, 1, 1, 1, 1, 1, 1, 1, 1, 1, 1, 1, 1, 1, 1, 1,\n",
       "       1, 1, 1, 1, 1, 1, 1, 1, 1, 1, 1, 1, 1, 1, 1, 1, 1, 1, 1, 1, 1, 1,\n",
       "       1, 1, 0, 1, 1, 1, 1, 1, 1, 1, 1, 1, 1, 1, 1, 1, 1, 1, 1, 1, 1, 1,\n",
       "       1, 1, 1, 1, 1, 1, 1, 1, 1, 1, 1, 1, 0, 1, 1, 1, 1, 1, 1, 1, 1, 1,\n",
       "       1, 1, 1, 1, 1, 1, 1, 1, 1, 0, 0, 0, 0, 0, 0, 0, 0, 0, 0, 0, 0, 0,\n",
       "       0, 0, 0, 0, 0, 0, 0, 0, 0, 0, 0, 0, 0, 0, 0, 0, 0, 0, 0, 0, 0, 0,\n",
       "       0, 0, 0, 0, 0, 0, 0, 0, 0, 0, 0, 0, 0, 0, 0, 0, 0, 0, 0, 0, 0, 0,\n",
       "       0, 0, 0, 0, 0, 0, 0, 0, 0, 0, 0, 0, 0, 0, 0, 0, 0, 0, 0, 0, 0, 0,\n",
       "       0, 0, 0, 0, 0, 1, 0])"
      ]
     },
     "execution_count": 9,
     "metadata": {},
     "output_type": "execute_result"
    }
   ],
   "source": [
    "model.predict(X)"
   ]
  },
  {
   "cell_type": "code",
   "execution_count": 10,
   "metadata": {},
   "outputs": [
    {
     "name": "stdout",
     "output_type": "stream",
     "text": [
      "Not pass\n",
      "Not pass\n",
      "Not pass\n",
      "Not pass\n",
      "Not pass\n",
      "Not pass\n",
      "Not pass\n",
      "Not pass\n",
      "Not pass\n"
     ]
    }
   ],
   "source": [
    "images_good = GetData.get_images('test_true')\n",
    "images_other = GetData.get_images('test_false')\n",
    "\n",
    "X = []\n",
    "X1= []\n",
    "\n",
    "\n",
    "for i in images_good:\n",
    "    kps=star.detect(i,None)\n",
    "    kps, desc = detector.compute(i, kps)\n",
    "    try:\n",
    "        if len(desc) > 30:\n",
    "            X.append(desc[:30])\n",
    "        else:\n",
    "            print(\"Not pass\")\n",
    "    except Exception:\n",
    "        print(\"Oops...Something goes wrong!\")\n",
    "\n",
    "for i in images_other:\n",
    "    kps=star.detect(i,None)\n",
    "    kps, desc = detector.compute(i, kps)\n",
    "    try:\n",
    "        if len(desc) > 30:\n",
    "            X1.append(desc[:30])\n",
    "        else:\n",
    "            print(\"Not pass\")\n",
    "    except Exception:\n",
    "        print(\"Oops...Something goes wrong!\")\n",
    "\n",
    "X = np.array(X)\n",
    "X = X.reshape(X.shape[0], -1)\n",
    "\n",
    "X1 = np.array(X1)\n",
    "X1 = X1.reshape(X1.shape[0], -1)\n",
    "\n"
   ]
  },
  {
   "cell_type": "code",
   "execution_count": 11,
   "metadata": {},
   "outputs": [
    {
     "name": "stdout",
     "output_type": "stream",
     "text": [
      "0.003000020980834961\n",
      "Помилок першого роду =  41\n",
      "Помилок другого роду =  41\n",
      "Всего распознано =  170 из 179\n"
     ]
    }
   ],
   "source": [
    "start = time.time()\n",
    "x_predict_true = model.predict(X) # test_true\n",
    "x_predict_false = model.predict(X1) # test_false\n",
    "time_spend = time.time() - start # время\n",
    "\n",
    "print(time_spend)\n",
    "print(\"Помилок першого роду = \", int(np.sum(x_predict_false)))\n",
    "print(\"Помилок другого роду = \", int(x_predict_true.size - np.sum(x_predict_true)))\n",
    "print(\"Всего распознано = \", x_predict_true.size + x_predict_false.size, \"из\", 179)"
   ]
  },
  {
   "cell_type": "code",
   "execution_count": 12,
   "metadata": {},
   "outputs": [
    {
     "data": {
      "text/plain": [
       "array([0, 0, 0, 1, 0, 0, 0, 0, 1, 0, 0, 1, 1, 1, 1, 0, 0, 1, 0, 0, 0, 0,\n",
       "       1, 0, 1, 1, 0, 0, 0, 1, 1, 0, 1, 0, 0, 0, 1, 0, 1, 0, 1, 1, 0, 0,\n",
       "       1, 0, 1, 0, 0, 1, 1, 1, 0, 1, 0, 0, 1, 0, 1, 1, 1, 1, 0, 0, 1, 1,\n",
       "       0, 1, 1, 0, 1, 1, 0, 1, 1, 1, 1, 0, 0, 1, 0, 1, 1, 0])"
      ]
     },
     "execution_count": 12,
     "metadata": {},
     "output_type": "execute_result"
    }
   ],
   "source": [
    "x_predict_false"
   ]
  },
  {
   "cell_type": "code",
   "execution_count": 13,
   "metadata": {},
   "outputs": [
    {
     "data": {
      "text/plain": [
       "array([1, 1, 1, 1, 0, 0, 1, 1, 1, 1, 1, 0, 0, 1, 0, 0, 0, 1, 0, 1, 0, 0,\n",
       "       0, 1, 1, 1, 0, 0, 0, 0, 1, 1, 1, 1, 1, 0, 0, 1, 0, 0, 1, 1, 0, 0,\n",
       "       1, 0, 0, 1, 1, 0, 0, 1, 1, 0, 0, 1, 0, 1, 0, 0, 1, 1, 1, 1, 1, 1,\n",
       "       1, 0, 0, 1, 1, 0, 0, 1, 1, 0, 1, 0, 0, 0, 1, 0, 1, 1, 0, 0])"
      ]
     },
     "execution_count": 13,
     "metadata": {},
     "output_type": "execute_result"
    }
   ],
   "source": [
    "x_predict_true"
   ]
  },
  {
   "cell_type": "code",
   "execution_count": null,
   "metadata": {},
   "outputs": [],
   "source": []
  }
 ],
 "metadata": {
  "kernelspec": {
   "display_name": "Python 3",
   "language": "python",
   "name": "python3"
  },
  "language_info": {
   "codemirror_mode": {
    "name": "ipython",
    "version": 3
   },
   "file_extension": ".py",
   "mimetype": "text/x-python",
   "name": "python",
   "nbconvert_exporter": "python",
   "pygments_lexer": "ipython3",
   "version": "3.7.3"
  }
 },
 "nbformat": 4,
 "nbformat_minor": 2
}
